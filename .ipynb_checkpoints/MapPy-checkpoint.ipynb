{
 "cells": [
  {
   "cell_type": "code",
   "execution_count": 149,
   "metadata": {},
   "outputs": [],
   "source": [
    "import geojson\n",
    "from PIL import Image, ImageDraw\n",
    "from pyproj import Proj, transform\n",
    "import numpy as np\n",
    "from simplification.cutil import simplify_coords, simplify_coords_vw, simplify_coords_vwp\n",
    "import aggdraw\n",
    "import copy\n",
    "import timeit\n",
    "import yaml\n",
    "\n",
    "DefaultStyle = {'color': 'red', 'width': 2}\n",
    "sizeOfShortCoordinates = 0.001"
   ]
  },
  {
   "cell_type": "code",
   "execution_count": 150,
   "metadata": {},
   "outputs": [],
   "source": [
    "def LoadData(fileName):\n",
    "    with open(fileName, encoding='utf-8') as f:\n",
    "        gj = geojson.load(f)\n",
    "        \n",
    "        for feature in gj['features']:\n",
    "            \n",
    "            minP = [999.0, 999.0]\n",
    "            maxP = [0.0, 0.0]\n",
    "            centerP = [0.0, 0.0]\n",
    "            pointsNumber = 0.0\n",
    "            \n",
    "            \n",
    "            for a in feature['geometry']['coordinates']:\n",
    "                for b in a:\n",
    "                    for c in b:\n",
    "                        c = ToConvertCoordinate(c)\n",
    "                        \n",
    "                        #Поиск минимальных и максимальных координат объекта\n",
    "                        if c[0] < minP[0]:\n",
    "                            minP[0] = c[0]\n",
    "                        elif c[0] > maxP[0]:\n",
    "                            maxP[0] = c[0]\n",
    "                        if c[1] < minP[1]:\n",
    "                            minP[1] = c[1]\n",
    "                        elif c[1] > maxP[1]:\n",
    "                            maxP[1] = c[1]\n",
    "                        \n",
    "                        #Поиск цента масс\n",
    "                        centerP[0] += c[0]\n",
    "                        centerP[1] += c[1]\n",
    "                        pointsNumber += 1\n",
    "            \n",
    "            #Производит предварительное отсечение лишних вершин\n",
    "            coordinates_short = []\n",
    "            for a in feature['geometry']['coordinates']:\n",
    "                a_short = []\n",
    "                for b in a:\n",
    "                    a_short.append(simplify_coords(b, sizeOfShortCoordinates))\n",
    "                coordinates_short.append(a_short)\n",
    "            feature['geometry']['coordinates_short'] = coordinates_short   \n",
    "                    \n",
    "            \n",
    "            centerP[0] /= pointsNumber\n",
    "            centerP[1] /= pointsNumber\n",
    "            \n",
    "            feature['properties']['minP'] = minP\n",
    "            feature['properties']['maxP'] = maxP\n",
    "            feature['properties']['centerP'] = centerP\n",
    "            feature['properties']['w'] = maxP[0] - minP[0]\n",
    "            feature['properties']['h'] = maxP[1] - minP[1]\n",
    "            feature['properties']['density'] = pointsNumber / (maxP[0] - minP[0] + maxP[1] - minP[1]) / 2\n",
    "        \n",
    "        return gj['features']\n",
    "\n",
    "def LoadStyles(fileName=\"styles.yaml\", encoding='utf-8'):\n",
    "    with open(fileName, 'r') as stream:\n",
    "        try:\n",
    "            styles = yaml.load(stream)\n",
    "            if styles.get('rules')==None:\n",
    "                prib=print('Файл стилей должен содержать rules')\n",
    "                return None\n",
    "            elif styles.get('exceptions')==None:\n",
    "                prib=print('Файл стилей должен содержать exceptions')\n",
    "                return None\n",
    "            return styles\n",
    "        except yaml.YAMLError as exc:\n",
    "            print(exc)\n",
    "\n",
    "def GetLevelStyle(styles, admin_level):\n",
    "    levelStyle = copy.copy(DefaultStyle)\n",
    "    \n",
    "    if styles['rules'].get(admin_level) != None:\n",
    "        levelStyle = styles['rules'][admin_level]\n",
    "    \n",
    "    if levelStyle.get('color')==None:\n",
    "        levelStyle['color'] = DefaultStyle['color']\n",
    "    if levelStyle.get('width')==None:\n",
    "        levelStyle['width'] = DefaultStyle['width']\n",
    "    return levelStyle\n",
    "\n",
    "def GetCurrentStyle(styles, levelStyle, feature):\n",
    "    currentStyle = copy.copy(levelStyle)\n",
    "    \n",
    "    exception = styles['exceptions'].get(feature['properties']['name'])\n",
    "    \n",
    "    if exception != None:\n",
    "        if exception.get('color')!=None:\n",
    "            currentStyle['color'] = exception['color']\n",
    "        if exception.get('width')!=None:\n",
    "            currentStyle['width'] = exception['width']\n",
    "    return currentStyle\n",
    "\n",
    "def ToConvertCoordinate(c):\n",
    "    if c[0]<0:\n",
    "        c[0]=c[0]+360\n",
    "    c[0]-=30\n",
    "\n",
    "    c[0],c[1] = transform(Proj(init='epsg:4326'), Proj(init='epsg:3857'), c[0], c[1])\n",
    "    c[0]=90+c[0]/200000+15\n",
    "    c[1]=90-c[1]/200000\n",
    "    \n",
    "    return c\n",
    "\n",
    "\n",
    "\n",
    "#Переводит координаты в формат для отрисовки\n",
    "def ToNormalizeCoordinates(p, p0, size):\n",
    "    x1 = (p[0]-p0[0]) * size\n",
    "    y1 = (p[1]-p0[1]) * size\n",
    "    return (x1, y1)\n",
    "\n",
    "def ToCheckPointVisibility(p, p0, p1):\n",
    "    if p[0] > p0[0] and p[1] > p0[1] and p[0] < p1[0] and p[1] < p1[1]:\n",
    "        return True\n",
    "    else:\n",
    "        return False\n",
    "def ToCheckPolygonVisibility(minP, maxP, p0, p1):\n",
    "    if maxP[0] < p0[0] or maxP[1] < p0[1] or minP[0] > p1[0] or minP[1] > p1[1]:\n",
    "        return False\n",
    "    else:\n",
    "        return True\n",
    "    \n",
    "def ToDrawPolygon(draw, coordinates, size, p0, p1, colour=\"red\", width=1):\n",
    "    previousP = -1\n",
    "    norm_P0 = ToNormalizeCoordinates(copy.copy(p0), p0, size)\n",
    "    norm_P1 = ToNormalizeCoordinates(copy.copy(p1), p0, size)\n",
    "    points=[]\n",
    "    \n",
    "    for p in coordinates:\n",
    "        points.append(ToNormalizeCoordinates(p, p0, size))\n",
    "        continue\n",
    "        #Не используемый код, предназначенный для рисования линиями\n",
    "        if previousP == -1:\n",
    "            previousP = ToNormalizeCoordinates(p, p0, size)\n",
    "        else:\n",
    "            currentP = ToNormalizeCoordinates(p, p0, size)\n",
    "            \n",
    "            if ToCheckPointVisibility(previousP, norm_P0, norm_P1) or ToCheckPointVisibility(currentP, p0, p1):\n",
    "                draw.line((previousP[0], previousP[1], currentP[0], currentP[1]), fill=colour, width=int(width*size/100))\n",
    "            previousP = currentP\n",
    "        #\n",
    "    draw.polygon(points,outline = colour)\n",
    "\n",
    "\n",
    "def ToDrawPicture(W, p0, p1, activeLevelDictionary, styles):\n",
    "    H = W * (p1[1] - p0[1]) / (p1[0] - p0[0])\n",
    "    size = W / (p1[0] - p0[0])\n",
    "    \n",
    "    image = Image.new(\"RGBA\", (int(W),int(H)), (250,250,255,255))\n",
    "    draw = ImageDraw.Draw(image)\n",
    "    \n",
    "    for i in reversed(range(len(data))):\n",
    "        dataLevel = data[i]\n",
    "        if activeLevelDictionary.get(i)!=None and activeLevelDictionary[i]:\n",
    "            currentStyle = GetLevelStyle(styles, i)\n",
    "            \n",
    "            for feature in dataLevel:\n",
    "                \n",
    "                if not ToCheckPolygonVisibility(feature['properties']['minP'], feature['properties']['maxP'], p0, p1):\n",
    "                    continue\n",
    "                density = feature['properties']['density']\n",
    "                \n",
    "                for a in feature['geometry']['coordinates']:\n",
    "                    for b in a:\n",
    "                        b = simplify_coords(b, 1 / size / 10)\n",
    "                        ToDrawPolygon(draw, b, size, p0, p1, currentStyle['color'], currentStyle['width'])\n",
    "    del(draw)\n",
    "    \n",
    "    return image"
   ]
  },
  {
   "cell_type": "code",
   "execution_count": 151,
   "metadata": {},
   "outputs": [],
   "source": [
    "data = []\n",
    "for i in range(10):\n",
    "    data.append([])\n",
    "data[2] = LoadData(\"admin_level_2.geojson\")\n",
    "data[3] = LoadData(\"admin_level_3.geojson\")\n",
    "data[6] = LoadData(\"admin_level_6.geojson\")"
   ]
  },
  {
   "cell_type": "code",
   "execution_count": 15,
   "metadata": {},
   "outputs": [],
   "source": [
    "styles = LoadStyles()"
   ]
  },
  {
   "cell_type": "code",
   "execution_count": 116,
   "metadata": {},
   "outputs": [
    {
     "name": "stdout",
     "output_type": "stream",
     "text": [
      "0.008\n",
      "0.0005\n"
     ]
    }
   ],
   "source": [
    "image = ToDrawPicture(1000, (100, 20), (180, 80), {2: True, 3: True, 6: False}, styles) #%timeit \n",
    "image = ToDrawPicture(1000, (115, 55), (120, 60), {2: True, 3: True, 6: True}, styles)\n",
    "\n",
    "image.show()\n",
    "#image.save(\"test.png\", \"PNG\")"
   ]
  },
  {
   "cell_type": "code",
   "execution_count": null,
   "metadata": {},
   "outputs": [],
   "source": []
  },
  {
   "cell_type": "code",
   "execution_count": null,
   "metadata": {},
   "outputs": [],
   "source": []
  },
  {
   "cell_type": "code",
   "execution_count": null,
   "metadata": {},
   "outputs": [],
   "source": []
  },
  {
   "cell_type": "code",
   "execution_count": 145,
   "metadata": {},
   "outputs": [
    {
     "name": "stdout",
     "output_type": "stream",
     "text": [
      "71267\n"
     ]
    }
   ],
   "source": [
    "b = data[2][0]['geometry']['coordinates'][28][0]\n",
    "print(len(b))"
   ]
  },
  {
   "cell_type": "code",
   "execution_count": 147,
   "metadata": {},
   "outputs": [
    {
     "name": "stdout",
     "output_type": "stream",
     "text": [
      "19889\n"
     ]
    }
   ],
   "source": [
    "b = simplify_coords(b, 0.001)\n",
    "print(len(b))"
   ]
  },
  {
   "cell_type": "code",
   "execution_count": 146,
   "metadata": {},
   "outputs": [
    {
     "name": "stdout",
     "output_type": "stream",
     "text": [
      "26 ms ± 435 µs per loop (mean ± std. dev. of 7 runs, 10 loops each)\n"
     ]
    }
   ],
   "source": [
    "%timeit simplify_coords(b, 0.05)"
   ]
  },
  {
   "cell_type": "code",
   "execution_count": 148,
   "metadata": {},
   "outputs": [
    {
     "name": "stdout",
     "output_type": "stream",
     "text": [
      "6.56 ms ± 58.2 µs per loop (mean ± std. dev. of 7 runs, 100 loops each)\n"
     ]
    }
   ],
   "source": [
    "%timeit simplify_coords(b, 0.05)"
   ]
  },
  {
   "cell_type": "code",
   "execution_count": 104,
   "metadata": {},
   "outputs": [
    {
     "name": "stdout",
     "output_type": "stream",
     "text": [
      "94\n"
     ]
    }
   ],
   "source": [
    "b = simplify_coords(b, 0.95)\n",
    "print(len(b))"
   ]
  },
  {
   "cell_type": "code",
   "execution_count": 105,
   "metadata": {},
   "outputs": [
    {
     "name": "stdout",
     "output_type": "stream",
     "text": [
      "89\n"
     ]
    }
   ],
   "source": [
    "b = simplify_coords(b, 1)\n",
    "print(len(b))"
   ]
  },
  {
   "cell_type": "code",
   "execution_count": null,
   "metadata": {},
   "outputs": [],
   "source": []
  }
 ],
 "metadata": {
  "kernelspec": {
   "display_name": "Python 3",
   "language": "python",
   "name": "python3"
  },
  "language_info": {
   "codemirror_mode": {
    "name": "ipython",
    "version": 3
   },
   "file_extension": ".py",
   "mimetype": "text/x-python",
   "name": "python",
   "nbconvert_exporter": "python",
   "pygments_lexer": "ipython3",
   "version": "3.6.5"
  }
 },
 "nbformat": 4,
 "nbformat_minor": 2
}
