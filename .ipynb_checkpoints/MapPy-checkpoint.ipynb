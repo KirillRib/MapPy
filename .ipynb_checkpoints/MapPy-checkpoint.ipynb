{
 "cells": [
  {
   "cell_type": "code",
   "execution_count": 1,
   "metadata": {},
   "outputs": [],
   "source": [
    "import geojson\n",
    "from PIL import Image, ImageDraw\n",
    "from pyproj import Proj, transform\n",
    "import aggdraw\n",
    "import yaml\n"
   ]
  },
  {
   "cell_type": "code",
   "execution_count": 259,
   "metadata": {},
   "outputs": [],
   "source": [
    "def LoadData(fileName):\n",
    "    with open(fileName, encoding='utf-8') as f:\n",
    "        gj = geojson.load(f)\n",
    "        \n",
    "        for feature in gj['features']:\n",
    "            for a in feature['geometry']['coordinates']:\n",
    "                for b in a:\n",
    "                    for c in b:\n",
    "                        c = ToConvertCoordinate(c)\n",
    "        \n",
    "        return gj['features']"
   ]
  },
  {
   "cell_type": "code",
   "execution_count": 333,
   "metadata": {},
   "outputs": [],
   "source": []
  },
  {
   "cell_type": "code",
   "execution_count": 348,
   "metadata": {},
   "outputs": [],
   "source": [
    "def ToConvertCoordinate(c):\n",
    "    if c[0]<0:\n",
    "        c[0]=c[0]+360\n",
    "    c[0]-=30\n",
    "\n",
    "    c[0],c[1] = transform(Proj(init='epsg:4326'), Proj(init='epsg:3857'), c[0], c[1])\n",
    "    c[0]=90+c[0]/200000+15\n",
    "    c[1]=90-c[1]/200000\n",
    "    \n",
    "    return c\n",
    "\n",
    "def ToDrawLine(draw, x1, y1, x2, y2, size, p0, p1, colour=\"red\", width=1):\n",
    "    x1 = (x1-p0[0]) * size\n",
    "    y1 = (y1-p0[1]) * size\n",
    "    x2 = (x2-p0[0]) * size\n",
    "    y2 = (y2-p0[1]) * size\n",
    "    draw.line((x1, y1, x2, y2), fill=colour, width=width)\n",
    "\n",
    "def ToDrawPicture(size, p0, p1, isDL_2, isDL_3, isDL_6):\n",
    "    image = Image.new(\"RGBA\", (int((p1[0]-p0[0])*size),int((p1[1]-p0[1])*size)), (250,250,255,255))\n",
    "    draw = ImageDraw.Draw(image)\n",
    "    \n",
    "    if isDL_2:\n",
    "        for feature in dataLevel_2:\n",
    "            for a in feature['geometry']['coordinates']:\n",
    "                for b in a:\n",
    "                    for i in range(len(b)-1):\n",
    "                        ToDrawLine(draw, b[i][0], b[i][1], b[i+1][0], b[i+1][1], size, p0, p1, \"red\", 10)\n",
    "    if isDL_3:\n",
    "        for feature in dataLevel_3:\n",
    "            for a in feature['geometry']['coordinates']:\n",
    "                for b in a:\n",
    "                    for i in range(len(b)-1):\n",
    "                        ToDrawLine(draw, b[i][0], b[i][1], b[i+1][0], b[i+1][1], size, p0, p1, \"red\", 5)\n",
    "    \n",
    "    if isDL_6:\n",
    "        for feature in dataLevel_6:\n",
    "            for a in feature['geometry']['coordinates']:\n",
    "                for b in a:\n",
    "                    for i in range(len(b)-1):\n",
    "                        ToDrawLine(draw, b[i][0], b[i][1], b[i+1][0], b[i+1][1], size, p0, p1, \"red\", 1)\n",
    "\n",
    "    #draw.floodfill(image, (0, 0), value, border=\"red\", thresh=0)\n",
    "    del(draw)\n",
    "    \n",
    "    return image"
   ]
  },
  {
   "cell_type": "code",
   "execution_count": 341,
   "metadata": {},
   "outputs": [],
   "source": [
    "dataLevel_2 = LoadData(\"admin_level_2.geojson\")\n",
    "dataLevel_3 = LoadData(\"admin_level_3.geojson\")\n",
    "dataLevel_6 = LoadData(\"admin_level_6.geojson\")"
   ]
  },
  {
   "cell_type": "code",
   "execution_count": 349,
   "metadata": {},
   "outputs": [],
   "source": [
    "image = ToDrawPicture(100, (90, 0), (210, 90), True, True, True)\n",
    "\n",
    "image.show()\n",
    "image.save(\"test.png\", \"PNG\")"
   ]
  },
  {
   "cell_type": "code",
   "execution_count": null,
   "metadata": {},
   "outputs": [],
   "source": []
  },
  {
   "cell_type": "code",
   "execution_count": null,
   "metadata": {},
   "outputs": [],
   "source": []
  },
  {
   "cell_type": "code",
   "execution_count": 14,
   "metadata": {},
   "outputs": [],
   "source": [
    "with open(\"styles.yaml\", 'r') as stream:\n",
    "    try:\n",
    "        styles = yaml.load(stream)\n",
    "        if styles.get('rules')==None:\n",
    "            prib=print('Файл стилей должен содержать rules')\n",
    "            return None\n",
    "        elif styles.get('exceptions')==None:\n",
    "            prib=print('Файл стилей должен содержать exceptions')\n",
    "            return None\n",
    "        return styles\n",
    "    except yaml.YAMLError as exc:\n",
    "        print(exc)"
   ]
  },
  {
   "cell_type": "code",
   "execution_count": 12,
   "metadata": {},
   "outputs": [],
   "source": [
    "styles.get('rules')"
   ]
  }
 ],
 "metadata": {
  "kernelspec": {
   "display_name": "Python 3",
   "language": "python",
   "name": "python3"
  },
  "language_info": {
   "codemirror_mode": {
    "name": "ipython",
    "version": 3
   },
   "file_extension": ".py",
   "mimetype": "text/x-python",
   "name": "python",
   "nbconvert_exporter": "python",
   "pygments_lexer": "ipython3",
   "version": "3.6.5"
  }
 },
 "nbformat": 4,
 "nbformat_minor": 2
}
